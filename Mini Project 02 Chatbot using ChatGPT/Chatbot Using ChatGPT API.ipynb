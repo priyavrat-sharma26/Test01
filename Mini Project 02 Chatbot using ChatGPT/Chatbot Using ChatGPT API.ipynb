{
 "cells": [
  {
   "cell_type": "code",
   "execution_count": 1,
   "id": "3f2f74c5",
   "metadata": {},
   "outputs": [],
   "source": [
    "import openai"
   ]
  },
  {
   "cell_type": "code",
   "execution_count": 2,
   "id": "e4031d86",
   "metadata": {},
   "outputs": [],
   "source": [
    "openai.api_key= open(\"api_key.txt\",\"r\").read()"
   ]
  },
  {
   "cell_type": "code",
   "execution_count": 3,
   "id": "1893393e",
   "metadata": {},
   "outputs": [
    {
     "name": "stdout",
     "output_type": "stream",
     "text": [
      "Enter your Text\n",
      "what is the difference between an interpreted language and a compiled language? \n",
      "Response:\n",
      "An interpreted language is a type of programming language where the source code is executed line by line by an interpreter at runtime. The interpreter reads the code, converts it into machine code, and then executes it immediately. This allows for easier debugging and greater flexibility, as changes to the code can be made on the fly.\n",
      "\n",
      "On the other hand, a compiled language is a type of programming language where the source code is translated into machine code before being executed. The compiler converts the entire source code into an executable file, which is then run on the computer. This typically results in faster and more efficient code execution, as the machine code is optimized for the specific hardware it will run on.\n",
      "\n",
      "In summary, the main difference between an interpreted language and a compiled language is in how the code is executed - line by line with an interpreter in the case of an interpreted language, and all at once after compilation in the case of a compiled language.\n",
      "Enter your Text\n",
      "which one of the two is python?\n",
      "Response:\n",
      "Python is an interpreted language. When you run Python code, it is executed line by line by the Python interpreter. This allows for quicker development and testing of code, as changes can be made and executed immediately without the need for a separate compilation step.\n",
      "Enter your Text\n",
      "quit\n"
     ]
    }
   ],
   "source": [
    "chat_log = []\n",
    "while True:\n",
    "    user_message = input(\"Enter your Text\\n\")\n",
    "    if user_message.lower() == 'quit':\n",
    "        break\n",
    "    else:\n",
    "        chat_log.append({\"role\":\"user\",\"content\": user_message})\n",
    "        response = openai.chat.completions.create(\n",
    "                   model=\"gpt-3.5-turbo\",\n",
    "                   messages =chat_log\n",
    "                        )\n",
    "        assistant_response = ((response).dict()['choices'][0]['message'])['content']\n",
    "        print(\"Response:\")\n",
    "        print((((response).dict()['choices'][0]['message'])['content']).strip(\"\\n\").strip())\n",
    "        chat_log.append({\"role\":\"assistant\",\"content\": assistant_response.strip(\"\\n\").strip()}) "
   ]
  },
  {
   "cell_type": "code",
   "execution_count": 4,
   "id": "d43a10ad",
   "metadata": {},
   "outputs": [
    {
     "data": {
      "text/plain": [
       "[{'role': 'user',\n",
       "  'content': 'what is the difference between an interpreted language and a compiled language? '},\n",
       " {'role': 'assistant',\n",
       "  'content': 'An interpreted language is a type of programming language where the source code is executed line by line by an interpreter at runtime. The interpreter reads the code, converts it into machine code, and then executes it immediately. This allows for easier debugging and greater flexibility, as changes to the code can be made on the fly.\\n\\nOn the other hand, a compiled language is a type of programming language where the source code is translated into machine code before being executed. The compiler converts the entire source code into an executable file, which is then run on the computer. This typically results in faster and more efficient code execution, as the machine code is optimized for the specific hardware it will run on.\\n\\nIn summary, the main difference between an interpreted language and a compiled language is in how the code is executed - line by line with an interpreter in the case of an interpreted language, and all at once after compilation in the case of a compiled language.'},\n",
       " {'role': 'user', 'content': 'which one of the two is python?'},\n",
       " {'role': 'assistant',\n",
       "  'content': 'Python is an interpreted language. When you run Python code, it is executed line by line by the Python interpreter. This allows for quicker development and testing of code, as changes can be made and executed immediately without the need for a separate compilation step.'}]"
      ]
     },
     "execution_count": 4,
     "metadata": {},
     "output_type": "execute_result"
    }
   ],
   "source": [
    "chat_log"
   ]
  },
  {
   "cell_type": "code",
   "execution_count": 5,
   "id": "a2e31d24",
   "metadata": {},
   "outputs": [
    {
     "data": {
      "text/plain": [
       "'{\"id\": \"chatcmpl-8uZOyfaKlx4zb7HrxnsjxHjbl1syE\", \"choices\": [{\"finish_reason\": \"stop\", \"index\": 0, \"logprobs\": null, \"message\": {\"content\": \"Python is an interpreted language. When you run Python code, it is executed line by line by the Python interpreter. This allows for quicker development and testing of code, as changes can be made and executed immediately without the need for a separate compilation step.\", \"role\": \"assistant\", \"function_call\": null, \"tool_calls\": null}}], \"created\": 1708493144, \"model\": \"gpt-3.5-turbo-0125\", \"object\": \"chat.completion\", \"system_fingerprint\": \"fp_69829325d0\", \"usage\": {\"completion_tokens\": 50, \"prompt_tokens\": 223, \"total_tokens\": 273}}'"
      ]
     },
     "execution_count": 5,
     "metadata": {},
     "output_type": "execute_result"
    }
   ],
   "source": [
    "response.json()"
   ]
  }
 ],
 "metadata": {
  "kernelspec": {
   "display_name": "Python 3 (ipykernel)",
   "language": "python",
   "name": "python3"
  },
  "language_info": {
   "codemirror_mode": {
    "name": "ipython",
    "version": 3
   },
   "file_extension": ".py",
   "mimetype": "text/x-python",
   "name": "python",
   "nbconvert_exporter": "python",
   "pygments_lexer": "ipython3",
   "version": "3.11.7"
  }
 },
 "nbformat": 4,
 "nbformat_minor": 5
}
