{
 "cells": [
  {
   "cell_type": "code",
   "execution_count": 1,
   "id": "56ee79aa",
   "metadata": {},
   "outputs": [],
   "source": [
    "from transformers import BertTokenizer, BertForNextSentencePrediction\n",
    "import torch\n",
    "import nltk\n",
    "import wikipedia"
   ]
  },
  {
   "cell_type": "code",
   "execution_count": 2,
   "id": "306c25d4",
   "metadata": {},
   "outputs": [
    {
     "name": "stderr",
     "output_type": "stream",
     "text": [
      "[nltk_data] Downloading package punkt to\n",
      "[nltk_data]     C:\\Users\\priyavrat.sharma\\AppData\\Roaming\\nltk_data...\n",
      "[nltk_data]   Package punkt is already up-to-date!\n"
     ]
    },
    {
     "data": {
      "text/plain": [
       "True"
      ]
     },
     "execution_count": 2,
     "metadata": {},
     "output_type": "execute_result"
    }
   ],
   "source": [
    "nltk.download('punkt')"
   ]
  },
  {
   "cell_type": "code",
   "execution_count": 3,
   "id": "feaf2899",
   "metadata": {},
   "outputs": [],
   "source": [
    "tokenizer = BertTokenizer.from_pretrained('bert-base-uncased')\n",
    "model = BertForNextSentencePrediction.from_pretrained('bert-base-uncased')"
   ]
  },
  {
   "cell_type": "code",
   "execution_count": 4,
   "id": "acd254e1",
   "metadata": {},
   "outputs": [],
   "source": [
    "def predict_next_sentence(sentence1, sentence2):\n",
    "    tokens = tokenizer(sentence1, sentence2, return_tensors='pt')\n",
    "\n",
    "    logits = model(**tokens).logits\n",
    "\n",
    "    probabilities = torch.softmax(logits, dim=1)\n",
    "\n",
    "    next_sentence_probability = probabilities[:, 0].item()\n",
    "\n",
    "    return next_sentence_probability\n"
   ]
  },
  {
   "cell_type": "code",
   "execution_count": 5,
   "id": "8b5c7b8d",
   "metadata": {},
   "outputs": [
    {
     "name": "stdout",
     "output_type": "stream",
     "text": [
      "Type\n",
      "AI is seeing lots of innovation in current time.\n",
      "Type the topic your talking about Artificial Intelligence\n"
     ]
    }
   ],
   "source": [
    "input1 = input('Type\\n')\n",
    "input2 = input(\"Type the topic your talking about \")"
   ]
  },
  {
   "cell_type": "code",
   "execution_count": 6,
   "id": "25849511",
   "metadata": {},
   "outputs": [],
   "source": [
    "para = wikipedia.page(f\"'{input2}'\").content\n",
    "# print(para)"
   ]
  },
  {
   "cell_type": "code",
   "execution_count": 7,
   "id": "233d8f58",
   "metadata": {},
   "outputs": [],
   "source": [
    "sentences = nltk.tokenize.sent_tokenize(para)"
   ]
  },
  {
   "cell_type": "code",
   "execution_count": 8,
   "id": "75cfea63",
   "metadata": {},
   "outputs": [
    {
     "data": {
      "text/plain": [
       "398"
      ]
     },
     "execution_count": 8,
     "metadata": {},
     "output_type": "execute_result"
    }
   ],
   "source": [
    "len(sentences)"
   ]
  },
  {
   "cell_type": "code",
   "execution_count": 9,
   "id": "adb8332e",
   "metadata": {},
   "outputs": [
    {
     "name": "stdout",
     "output_type": "stream",
     "text": [
      "Best suited sentence from the given dataset for inputed sentence is: For medical research, AI is an important tool for processing and integrating Big Data.\n"
     ]
    }
   ],
   "source": [
    "lis = []\n",
    "for i in sentences:\n",
    "    probability = predict_next_sentence(input1, i)\n",
    "    lis.append(probability)\n",
    "print(f\"Best suited sentence from the given dataset for inputed sentence is: {sentences[lis.index(max(lis))]}\")"
   ]
  },
  {
   "cell_type": "code",
   "execution_count": null,
   "id": "ecce6d42",
   "metadata": {},
   "outputs": [],
   "source": []
  },
  {
   "cell_type": "code",
   "execution_count": null,
   "id": "f9cb0276",
   "metadata": {},
   "outputs": [],
   "source": []
  }
 ],
 "metadata": {
  "kernelspec": {
   "display_name": "Python 3 (ipykernel)",
   "language": "python",
   "name": "python3"
  },
  "language_info": {
   "codemirror_mode": {
    "name": "ipython",
    "version": 3
   },
   "file_extension": ".py",
   "mimetype": "text/x-python",
   "name": "python",
   "nbconvert_exporter": "python",
   "pygments_lexer": "ipython3",
   "version": "3.11.7"
  }
 },
 "nbformat": 4,
 "nbformat_minor": 5
}
