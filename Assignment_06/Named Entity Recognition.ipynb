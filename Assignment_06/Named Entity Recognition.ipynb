{
 "cells": [
  {
   "cell_type": "markdown",
   "id": "037528b6",
   "metadata": {},
   "source": [
    "# Using SPACY"
   ]
  },
  {
   "cell_type": "code",
   "execution_count": 1,
   "id": "6d8cbfed",
   "metadata": {},
   "outputs": [],
   "source": [
    "import spacy"
   ]
  },
  {
   "cell_type": "code",
   "execution_count": 2,
   "id": "5ffe6fa9",
   "metadata": {},
   "outputs": [],
   "source": [
    "nlp_sm = spacy.load(\"en_core_web_sm\")\n",
    "nlp_md = spacy.load(\"en_core_web_md\")\n",
    "nlp_lg = spacy.load(\"en_core_web_lg\")"
   ]
  },
  {
   "cell_type": "code",
   "execution_count": 16,
   "id": "3685903f",
   "metadata": {},
   "outputs": [],
   "source": [
    "text = [\"Missing Indian student in US confirmed dead; body found at Purdue University campus\"]"
   ]
  },
  {
   "cell_type": "code",
   "execution_count": 23,
   "id": "c9f45229",
   "metadata": {},
   "outputs": [],
   "source": [
    "text1 = [\"Apple Inc. was founded by steve jobs and steve wozniak in Cupertiono. Google is located in Mountain view, CAlifornia.\"]"
   ]
  },
  {
   "cell_type": "code",
   "execution_count": 17,
   "id": "4666d95b",
   "metadata": {},
   "outputs": [],
   "source": [
    "doc_sm = nlp_sm(text[0])\n",
    "doc_md = nlp_md(text[0])\n",
    "doc_lg = nlp_lg(text[0])"
   ]
  },
  {
   "cell_type": "code",
   "execution_count": 47,
   "id": "486a621e",
   "metadata": {},
   "outputs": [
    {
     "name": "stdout",
     "output_type": "stream",
     "text": [
      "Missing: VERB: verb: miss\n",
      "Indian: ADJ: adjective: indian\n",
      "student: NOUN: noun: student\n",
      "in: ADP: adposition: in\n",
      "US: PROPN: proper noun: US\n",
      "confirmed: VERB: verb: confirm\n",
      "dead: ADJ: adjective: dead\n",
      ";: PUNCT: punctuation: ;\n",
      "body: NOUN: noun: body\n",
      "found: VERB: verb: find\n",
      "at: ADP: adposition: at\n",
      "Purdue: PROPN: proper noun: Purdue\n",
      "University: PROPN: proper noun: University\n",
      "campus: NOUN: noun: campus\n"
     ]
    }
   ],
   "source": [
    "for i in doc_sm:\n",
    "    print(f\"{i}: {i.pos_}: {spacy.explain(str(i.pos_))}: {i.lemma_}\")"
   ]
  },
  {
   "cell_type": "code",
   "execution_count": 46,
   "id": "538b7cc7",
   "metadata": {},
   "outputs": [
    {
     "name": "stdout",
     "output_type": "stream",
     "text": [
      "<class 'str'>\n",
      "<class 'str'>\n",
      "<class 'str'>\n",
      "<class 'str'>\n",
      "<class 'str'>\n",
      "<class 'str'>\n",
      "<class 'str'>\n",
      "<class 'str'>\n",
      "<class 'str'>\n",
      "<class 'str'>\n",
      "<class 'str'>\n",
      "<class 'str'>\n",
      "<class 'str'>\n",
      "<class 'str'>\n"
     ]
    }
   ],
   "source": [
    "t = []\n",
    "for i in doc_sm:\n",
    "    print(type(i.pos_))"
   ]
  },
  {
   "cell_type": "code",
   "execution_count": 45,
   "id": "e0e6e33c",
   "metadata": {},
   "outputs": [
    {
     "data": {
      "text/plain": [
       "str"
      ]
     },
     "execution_count": 45,
     "metadata": {},
     "output_type": "execute_result"
    }
   ],
   "source": []
  },
  {
   "cell_type": "code",
   "execution_count": 18,
   "id": "a0fd69b9",
   "metadata": {},
   "outputs": [
    {
     "name": "stdout",
     "output_type": "stream",
     "text": [
      "Indian | NORP | Nationalities or religious or political groups\n",
      "US | GPE | Countries, cities, states\n",
      "Purdue University | ORG | Companies, agencies, institutions, etc.\n"
     ]
    }
   ],
   "source": [
    "for i in doc_sm.ents:\n",
    "    print(f\"{i.text} | {i.label_} | {spacy.explain(i.label_)}\")"
   ]
  },
  {
   "cell_type": "code",
   "execution_count": 19,
   "id": "119ec37f",
   "metadata": {},
   "outputs": [
    {
     "name": "stdout",
     "output_type": "stream",
     "text": [
      "Indian | NORP | Nationalities or religious or political groups\n",
      "US | GPE | Countries, cities, states\n",
      "Purdue University | ORG | Companies, agencies, institutions, etc.\n"
     ]
    }
   ],
   "source": [
    "for i in doc_md.ents:\n",
    "    print(f\"{i.text} | {i.label_} | {spacy.explain(i.label_)}\")"
   ]
  },
  {
   "cell_type": "code",
   "execution_count": 20,
   "id": "1ce858fd",
   "metadata": {},
   "outputs": [
    {
     "name": "stdout",
     "output_type": "stream",
     "text": [
      "Indian | NORP | Nationalities or religious or political groups\n",
      "US | GPE | Countries, cities, states\n",
      "Purdue University | ORG | Companies, agencies, institutions, etc.\n"
     ]
    }
   ],
   "source": [
    "for i in doc_lg.ents:\n",
    "    print(f\"{i.text} | {i.label_} | {spacy.explain(i.label_)}\")"
   ]
  },
  {
   "cell_type": "code",
   "execution_count": null,
   "id": "310ad66e",
   "metadata": {},
   "outputs": [],
   "source": []
  },
  {
   "cell_type": "markdown",
   "id": "019c8688",
   "metadata": {},
   "source": [
    "# Using NLTK"
   ]
  },
  {
   "cell_type": "code",
   "execution_count": 22,
   "id": "fb1ccc1d",
   "metadata": {},
   "outputs": [],
   "source": [
    "import nltk\n",
    "from nltk import word_tokenize, pos_tag, ne_chunk"
   ]
  },
  {
   "cell_type": "code",
   "execution_count": 24,
   "id": "a01086aa",
   "metadata": {},
   "outputs": [
    {
     "name": "stderr",
     "output_type": "stream",
     "text": [
      "[nltk_data] Downloading package punkt to\n",
      "[nltk_data]     C:\\Users\\priyavrat.sharma\\AppData\\Roaming\\nltk_data...\n",
      "[nltk_data]   Package punkt is already up-to-date!\n",
      "[nltk_data] Downloading package maxent_ne_chunker to\n",
      "[nltk_data]     C:\\Users\\priyavrat.sharma\\AppData\\Roaming\\nltk_data...\n",
      "[nltk_data]   Package maxent_ne_chunker is already up-to-date!\n",
      "[nltk_data] Downloading package words to\n",
      "[nltk_data]     C:\\Users\\priyavrat.sharma\\AppData\\Roaming\\nltk_data...\n",
      "[nltk_data]   Package words is already up-to-date!\n",
      "[nltk_data] Downloading package averaged_perceptron_tagger to\n",
      "[nltk_data]     C:\\Users\\priyavrat.sharma\\AppData\\Roaming\\nltk_data...\n",
      "[nltk_data]   Package averaged_perceptron_tagger is already up-to-\n",
      "[nltk_data]       date!\n"
     ]
    },
    {
     "data": {
      "text/plain": [
       "True"
      ]
     },
     "execution_count": 24,
     "metadata": {},
     "output_type": "execute_result"
    }
   ],
   "source": [
    "nltk.download('punkt')\n",
    "nltk.download('maxent_ne_chunker')\n",
    "nltk.download('words')\n",
    "nltk.download('averaged_perceptron_tagger')"
   ]
  },
  {
   "cell_type": "code",
   "execution_count": 25,
   "id": "cf4f9ab0",
   "metadata": {},
   "outputs": [],
   "source": [
    "tokens = word_tokenize(text[0])\n",
    "pos_tags = pos_tag(tokens)"
   ]
  },
  {
   "cell_type": "code",
   "execution_count": 26,
   "id": "b4d2e08a",
   "metadata": {},
   "outputs": [],
   "source": [
    "tree = ne_chunk(pos_tags)"
   ]
  },
  {
   "cell_type": "code",
   "execution_count": 27,
   "id": "59e5b1cb",
   "metadata": {},
   "outputs": [
    {
     "name": "stdout",
     "output_type": "stream",
     "text": [
      "Indian: GPE\n",
      "US: GSP\n",
      "Purdue University: ORGANIZATION\n"
     ]
    }
   ],
   "source": [
    "for subtree in tree:\n",
    "    if isinstance(subtree,nltk.Tree):\n",
    "        entity = \" \".join([word for word,tag in subtree.leaves()])\n",
    "        label = subtree.label()\n",
    "        print(f\"{entity}: {label}\")"
   ]
  },
  {
   "cell_type": "markdown",
   "id": "326f5732",
   "metadata": {},
   "source": [
    "# Using Transformer Based Model"
   ]
  },
  {
   "cell_type": "code",
   "execution_count": 28,
   "id": "80717352",
   "metadata": {},
   "outputs": [
    {
     "name": "stdout",
     "output_type": "stream",
     "text": [
      "WARNING:tensorflow:From C:\\Users\\priyavrat.sharma\\AppData\\Local\\miniconda3\\envs\\learn\\Lib\\site-packages\\keras\\src\\losses.py:2976: The name tf.losses.sparse_softmax_cross_entropy is deprecated. Please use tf.compat.v1.losses.sparse_softmax_cross_entropy instead.\n",
      "\n"
     ]
    }
   ],
   "source": [
    "from transformers import pipeline"
   ]
  },
  {
   "cell_type": "code",
   "execution_count": 29,
   "id": "c693cbb3",
   "metadata": {},
   "outputs": [
    {
     "name": "stderr",
     "output_type": "stream",
     "text": [
      "Some weights of the model checkpoint at dbmdz/bert-large-cased-finetuned-conll03-english were not used when initializing BertForTokenClassification: ['bert.pooler.dense.bias', 'bert.pooler.dense.weight']\n",
      "- This IS expected if you are initializing BertForTokenClassification from the checkpoint of a model trained on another task or with another architecture (e.g. initializing a BertForSequenceClassification model from a BertForPreTraining model).\n",
      "- This IS NOT expected if you are initializing BertForTokenClassification from the checkpoint of a model that you expect to be exactly identical (initializing a BertForSequenceClassification model from a BertForSequenceClassification model).\n"
     ]
    }
   ],
   "source": [
    "nlp = pipeline(task = \"ner\", model = \"dbmdz/bert-large-cased-finetuned-conll03-english\")"
   ]
  },
  {
   "cell_type": "code",
   "execution_count": 30,
   "id": "d42ecb45",
   "metadata": {},
   "outputs": [
    {
     "name": "stdout",
     "output_type": "stream",
     "text": [
      "[{'entity': 'I-MISC', 'score': 0.99519265, 'index': 2, 'word': 'Indian', 'start': 8, 'end': 14}, {'entity': 'I-LOC', 'score': 0.99802136, 'index': 5, 'word': 'US', 'start': 26, 'end': 28}, {'entity': 'I-ORG', 'score': 0.9659601, 'index': 12, 'word': 'Purdue', 'start': 59, 'end': 65}, {'entity': 'I-ORG', 'score': 0.93503267, 'index': 13, 'word': 'University', 'start': 66, 'end': 76}]\n"
     ]
    }
   ],
   "source": [
    "predictions = nlp(text[0])\n",
    "print(predictions)"
   ]
  },
  {
   "cell_type": "code",
   "execution_count": 33,
   "id": "bdc1ac59",
   "metadata": {},
   "outputs": [
    {
     "name": "stdout",
     "output_type": "stream",
     "text": [
      "I-MISC | 0.9951926469802856 | Indian\n",
      "I-LOC | 0.9980213642120361 | US\n",
      "I-ORG | 0.9659600853919983 | Purdue\n",
      "I-ORG | 0.9350326657295227 | University\n"
     ]
    }
   ],
   "source": [
    "for i in predictions:\n",
    "    print(f\"{i['entity']} | {i['score']} | {i['word']}\")"
   ]
  },
  {
   "cell_type": "code",
   "execution_count": null,
   "id": "c0b6ca17",
   "metadata": {},
   "outputs": [],
   "source": []
  },
  {
   "cell_type": "code",
   "execution_count": null,
   "id": "7606f5d3",
   "metadata": {},
   "outputs": [],
   "source": []
  }
 ],
 "metadata": {
  "kernelspec": {
   "display_name": "Python 3 (ipykernel)",
   "language": "python",
   "name": "python3"
  },
  "language_info": {
   "codemirror_mode": {
    "name": "ipython",
    "version": 3
   },
   "file_extension": ".py",
   "mimetype": "text/x-python",
   "name": "python",
   "nbconvert_exporter": "python",
   "pygments_lexer": "ipython3",
   "version": "3.11.7"
  }
 },
 "nbformat": 4,
 "nbformat_minor": 5
}
